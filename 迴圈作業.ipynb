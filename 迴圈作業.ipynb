{
  "nbformat": 4,
  "nbformat_minor": 0,
  "metadata": {
    "colab": {
      "name": "迴圈作業.ipynb",
      "provenance": []
    },
    "kernelspec": {
      "name": "python2",
      "display_name": "Python 2"
    }
  },
  "cells": [
    {
      "cell_type": "code",
      "metadata": {
        "id": "QfpXOdcFcOd5",
        "colab_type": "code",
        "outputId": "dc2f04c8-bdd3-46c0-98bf-260e1762b49b",
        "colab": {
          "base_uri": "https://localhost:8080/",
          "height": 51
        }
      },
      "source": [
        "for name in ['Christopher', 'Susan']:\n",
        "\tprint(name)\n"
      ],
      "execution_count": 0,
      "outputs": [
        {
          "output_type": "stream",
          "text": [
            "Christopher\n",
            "Susan\n"
          ],
          "name": "stdout"
        }
      ]
    },
    {
      "cell_type": "code",
      "metadata": {
        "id": "V72QhSOlcTs0",
        "colab_type": "code",
        "outputId": "3d011fc8-67f1-4b7c-a8e1-43c8a1204730",
        "colab": {
          "base_uri": "https://localhost:8080/",
          "height": 51
        }
      },
      "source": [
        "for index in range(0, 2):\n",
        "\tprint(index)"
      ],
      "execution_count": 0,
      "outputs": [
        {
          "output_type": "stream",
          "text": [
            "0\n",
            "1\n"
          ],
          "name": "stdout"
        }
      ]
    },
    {
      "cell_type": "code",
      "metadata": {
        "id": "7eLkYtEdcYRE",
        "colab_type": "code",
        "outputId": "0e3d7884-4e48-468b-a726-805690be8b6f",
        "colab": {
          "base_uri": "https://localhost:8080/",
          "height": 51
        }
      },
      "source": [
        "names = ['Christopher', 'Susan']\n",
        "index = 0\n",
        "while index < len(names):   #判斷條件\n",
        "\tprint(names[index]) \n",
        "\t# Change the condition!!\n",
        "\tindex = index + 1\n"
      ],
      "execution_count": 0,
      "outputs": [
        {
          "output_type": "stream",
          "text": [
            "Christopher\n",
            "Susan\n"
          ],
          "name": "stdout"
        }
      ]
    },
    {
      "cell_type": "code",
      "metadata": {
        "id": "HWjF8S5adtmT",
        "colab_type": "code",
        "outputId": "ef6b6870-8354-4f2c-902e-f424d0328db5",
        "colab": {
          "base_uri": "https://localhost:8080/",
          "height": 34
        }
      },
      "source": [
        "price =10\n",
        "\n",
        "if price >= 1.00:\n",
        "\ttax = .07\n",
        "\tprint(tax)\n",
        "else:\n",
        "\ttax = 0\n",
        "\tprint(tax)\n",
        "\n"
      ],
      "execution_count": 0,
      "outputs": [
        {
          "output_type": "stream",
          "text": [
            "0.07\n"
          ],
          "name": "stdout"
        }
      ]
    },
    {
      "cell_type": "code",
      "metadata": {
        "id": "146oiAzPlMgj",
        "colab_type": "code",
        "outputId": "2c264660-f7ba-4faa-ec68-26dfbd191f70",
        "colab": {
          "base_uri": "https://localhost:8080/",
          "height": 34
        }
      },
      "source": [
        "if price >= 1.00:\n",
        "\ttax = .07\n",
        "\tprint(tax)\n",
        "else:\n",
        "\ttax = 0\n",
        "\tprint(tax)"
      ],
      "execution_count": 0,
      "outputs": [
        {
          "output_type": "stream",
          "text": [
            "0.07\n"
          ],
          "name": "stdout"
        }
      ]
    },
    {
      "cell_type": "code",
      "metadata": {
        "id": "Qm1b6WgIma2t",
        "colab_type": "code",
        "outputId": "d83d9632-9e20-484b-91f7-3e420250ac64",
        "colab": {
          "base_uri": "https://localhost:8080/",
          "height": 34
        }
      },
      "source": [
        "if price >= 1.00:\n",
        "\ttax = .07\n",
        "else:\n",
        "\ttax = 0\n",
        "print(tax)"
      ],
      "execution_count": 0,
      "outputs": [
        {
          "output_type": "stream",
          "text": [
            "0.07\n"
          ],
          "name": "stdout"
        }
      ]
    },
    {
      "cell_type": "code",
      "metadata": {
        "id": "81_UGOK7mfwO",
        "colab_type": "code",
        "outputId": "55337f54-73dc-4831-bc32-ffbe683bbda3",
        "colab": {
          "base_uri": "https://localhost:8080/",
          "height": 130
        }
      },
      "source": [
        "country = 'CANADA'\n",
        "if country == 'canada':\n",
        "    print('Oh look a Canadian')    \n",
        "else:\n",
        "    print('You are not from Canada')"
      ],
      "execution_count": 0,
      "outputs": [
        {
          "output_type": "error",
          "ename": "SyntaxError",
          "evalue": "ignored",
          "traceback": [
            "\u001b[0;36m  File \u001b[0;32m\"<ipython-input-35-092087bd1698>\"\u001b[0;36m, line \u001b[0;32m3\u001b[0m\n\u001b[0;31m    print('Oh look a Canadian')\u001b[0m\n\u001b[0m    ^\u001b[0m\n\u001b[0;31mSyntaxError\u001b[0m\u001b[0;31m:\u001b[0m invalid syntax\n"
          ]
        }
      ]
    },
    {
      "cell_type": "code",
      "metadata": {
        "id": "bC0QnD91nC8a",
        "colab_type": "code",
        "outputId": "429d8cd5-e097-463f-8db1-ed45b370f05a",
        "colab": {
          "base_uri": "https://localhost:8080/",
          "height": 130
        }
      },
      "source": [
        "province=\"country\"\n",
        "\n",
        "if province == 'Alberta':\n",
        "\ttax = 0.05\n",
        "elif province == 'Nunavut':\n",
        "\ttax = 0.05\n",
        "elif province == 'Ontario':\n",
        "\ttax = 0.13\n",
        "else:\n",
        "\ttax = 0.15\n",
        "  print(province)"
      ],
      "execution_count": 0,
      "outputs": [
        {
          "output_type": "error",
          "ename": "IndentationError",
          "evalue": "ignored",
          "traceback": [
            "\u001b[0;36m  File \u001b[0;32m\"<ipython-input-44-28ab12fa134c>\"\u001b[0;36m, line \u001b[0;32m11\u001b[0m\n\u001b[0;31m    print(province)\u001b[0m\n\u001b[0m                   ^\u001b[0m\n\u001b[0;31mIndentationError\u001b[0m\u001b[0;31m:\u001b[0m unindent does not match any outer indentation level\n"
          ]
        }
      ]
    },
    {
      "cell_type": "code",
      "metadata": {
        "id": "a7plSXVBnmUv",
        "colab_type": "code",
        "outputId": "73afcc69-48ef-456b-dc43-916718ed7c95",
        "colab": {
          "base_uri": "https://localhost:8080/",
          "height": 130
        }
      },
      "source": [
        "\n",
        "\n",
        "if province == 'Alberta' \\ or province == 'Nunavut':\n",
        "\ttax = 0.05\n",
        "elif province == 'Ontario':\n",
        "\ttax = 0.13\n",
        "else:\n",
        "\ttax = 0.15\n",
        "  print(province)"
      ],
      "execution_count": 0,
      "outputs": [
        {
          "output_type": "error",
          "ename": "SyntaxError",
          "evalue": "ignored",
          "traceback": [
            "\u001b[0;36m  File \u001b[0;32m\"<ipython-input-47-cb4511fc1dc0>\"\u001b[0;36m, line \u001b[0;32m1\u001b[0m\n\u001b[0;31m    if province == ('Alberta' \\ or province == 'Nunavut':)\u001b[0m\n\u001b[0m                                                          ^\u001b[0m\n\u001b[0;31mSyntaxError\u001b[0m\u001b[0;31m:\u001b[0m unexpected character after line continuation character\n"
          ]
        }
      ]
    },
    {
      "cell_type": "code",
      "metadata": {
        "id": "jmTmwMiopfUN",
        "colab_type": "code",
        "outputId": "4c907534-a22d-40a8-b507-55c3e6108a76",
        "colab": {
          "base_uri": "https://localhost:8080/",
          "height": 86
        }
      },
      "source": [
        "print(\"hello!\")\n",
        "print(3*2*(17-2.1))\n",
        "print(\"abc\"+\"def\")\n",
        "word = \"art\"\n",
        "print(word.replace(\"r\", \"n\"))"
      ],
      "execution_count": 0,
      "outputs": [
        {
          "output_type": "stream",
          "text": [
            "hello!\n",
            "89.4\n",
            "abcdef\n",
            "ant\n"
          ],
          "name": "stdout"
        }
      ]
    },
    {
      "cell_type": "code",
      "metadata": {
        "id": "2s4a1A4hpt3_",
        "colab_type": "code",
        "outputId": "15cdeaa0-27de-47ba-b438-25b54a3b4e22",
        "colab": {
          "base_uri": "https://localhost:8080/",
          "height": 51
        }
      },
      "source": [
        "\n",
        "a= 1\n",
        "b= 2\n",
        "c = a/b\n",
        "print(a, \"/\", b, \"=\", c) \n",
        "add = str(a)+\"/\"+str(b)+\"=\"+str(c)\n",
        "print(add)"
      ],
      "execution_count": 0,
      "outputs": [
        {
          "output_type": "stream",
          "text": [
            "(1, '/', 2, '=', 0)\n",
            "1/2=0\n"
          ],
          "name": "stdout"
        }
      ]
    }
  ]
}