{
  "nbformat": 4,
  "nbformat_minor": 0,
  "metadata": {
    "colab": {
      "name": "Untitled27.ipynb",
      "provenance": []
    },
    "kernelspec": {
      "name": "python3",
      "display_name": "Python 3"
    }
  },
  "cells": [
    {
      "cell_type": "code",
      "metadata": {
        "id": "SFpD0Jt7k-m2",
        "colab_type": "code",
        "outputId": "cf171828-2d8d-497d-8ba0-76c0c5bea814",
        "colab": {
          "base_uri": "https://localhost:8080/",
          "height": 87
        }
      },
      "source": [
        "s = input('請輸入字串')\n",
        "\n",
        "p = s.find(',')\n",
        "\n",
        "num1 = s[0:p]\n",
        "\n",
        "num2 = s[p+1:len(s)]\n",
        "\n",
        "print(num1)\n",
        "print(num2)\n",
        "sum = int(num1)+int(num2)\n",
        "print (sum)\n"
      ],
      "execution_count": 0,
      "outputs": [
        {
          "output_type": "stream",
          "text": [
            "請輸入字串200,300\n",
            "200\n",
            "300\n",
            "500\n"
          ],
          "name": "stdout"
        }
      ]
    }
  ]
}